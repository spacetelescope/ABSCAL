{
 "cells": [
  {
   "cell_type": "markdown",
   "id": "07841026",
   "metadata": {},
   "source": [
    "# ABSCAL Example Notebook\n",
    "\n",
    "## WFC3 IR Grism\n",
    "\n",
    "This notebook will take you through the steps of downloading sample MAST data and running the WFC3 IR grism abscal scripts on that data."
   ]
  },
  {
   "cell_type": "markdown",
   "id": "660269d9",
   "metadata": {},
   "source": [
    "### Set up Python Environment\n",
    "\n",
    "This step imports the python modules used by this script."
   ]
  },
  {
   "cell_type": "code",
   "execution_count": null,
   "id": "8a95c69d",
   "metadata": {},
   "outputs": [],
   "source": [
    "import glob\n",
    "import os\n",
    "import numpy as np\n",
    "import shutil\n",
    "\n",
    "from astroquery.mast import Observations\n",
    "from pathlib import Path\n",
    "from tempfile import TemporaryDirectory\n",
    "\n",
    "from abscal.wfc3.preprocess_table_create import populate_table\n",
    "from abscal.wfc3.reduce_grism_coadd import coadd\n",
    "from abscal.wfc3.reduce_grism_wavelength import wlmeas, wlmake\n",
    "\n",
    "%matplotlib inline\n",
    "\n",
    "work_dir = os.getcwd()"
   ]
  },
  {
   "cell_type": "markdown",
   "id": "38cda220",
   "metadata": {},
   "source": [
    "### Optional: Set up temporary directory for data\n",
    "\n",
    "By default, notebooks store downloaded files (etc.) in the directory in which they are running. If you don't wish to do this (or don't have access to that directory), you can set up a temporary directory and store data in it."
   ]
  },
  {
   "cell_type": "code",
   "execution_count": null,
   "id": "84c34905",
   "metadata": {},
   "outputs": [],
   "source": [
    "# Set this flag to True if you wish to use a temporary directory\n",
    "use_temporary_dir = False\n",
    "\n",
    "# Set this flag if you want to define a custom directory to work in\n",
    "use_custom_dir = True\n",
    "\n",
    "if use_temporary_dir:\n",
    "    data_dir = TemporaryDirectory()\n",
    "    os.chdir(data_dir.name)\n",
    "    work_dir = data_dir.name\n",
    "\n",
    "if use_custom_dir:\n",
    "    work_dir = \"/Users/york/Projects/abscal/examples/notebook_dev\"\n",
    "\n",
    "print(\"Storing data in {}\".format(work_dir))"
   ]
  },
  {
   "cell_type": "markdown",
   "id": "58c5446b",
   "metadata": {},
   "source": [
    "### Optional: Download input data from MAST\n",
    "\n",
    "This notebook is designed to be run with any WFC3 IR grism data (although planetary nebula observations of a known target will be required for the wavelength steps). In order to simply see how these scripts work with example data, or to test their operation, you can use a set of example data.\n",
    "\n",
    "The next cell defines a function that will download all non-HLA data from a specific HST observing program (i.e. data whose observation ID does not begin with \"hst_\"), and copy the downloaded files into a single directory (here, the same directory where the notebook is running). This function may be more generally useful for retrieving observations from MAST, and can be copied and used separately (or modified to suit) as long as the following import statements are included:\n",
    "\n",
    "    from astroquery.mast import Observations\n",
    "    import os\n",
    "    import shutil\n",
    "\n",
    "The following cell will download two sets of example data (a flux calibration target and a planetary nebula target) from MAST. In particular, it will download program 15587 for flux calibration, and 13582 for planetary nebula data.\n",
    "\n",
    "If you already have downloaded data with which you want to work, these cells can be skipped entirely."
   ]
  },
  {
   "cell_type": "code",
   "execution_count": null,
   "id": "f5e8bb35",
   "metadata": {},
   "outputs": [],
   "source": [
    "def download_mast_program(proposal_id, download_dir, skip_existing_files=True):\n",
    "    flux_table = Observations.query_criteria(proposal_id=proposal_id)\n",
    "    obs_mask = [x[:4] != 'hst_' for x in flux_table['obs_id']]\n",
    "    obs_filter = [id for id in flux_table['obs_id'] if id[:4] != 'hst_']\n",
    "    flux_table = flux_table[obs_mask]\n",
    "    obs_ids = flux_table['obsid']\n",
    "    if skip_existing_files:\n",
    "        i = 0\n",
    "        while i < len(obs_filter):\n",
    "            # This is an idiom for going through a list and potentially removing items from it. If you're going \n",
    "            # through a list in a for loop, the result of removing items from the list during the loop is not \n",
    "            # well-defined, so this method is used instead.\n",
    "            if len(glob.glob(os.path.join(download_dir, obs_filter[i]+\"*\"))) > 0:\n",
    "                obs_filter.remove(obs_filter[i])\n",
    "            else:\n",
    "                i += 1\n",
    "    data_products = Observations.get_product_list(obs_ids)\n",
    "    if len(data_products) > 0 and len(obs_filter) > 0:\n",
    "        manifest = Observations.download_products(data_products, download_dir=download_dir, extension=[\"fits\"], \n",
    "                                                  obs_id=obs_filter)\n",
    "\n",
    "        for file_name in manifest['Local Path']:\n",
    "            base_file = os.path.basename(file_name)\n",
    "            print(\"Copying {}\".format(base_file))\n",
    "            shutil.copy(os.path.join(download_dir, file_name), os.path.join(download_dir, base_file))"
   ]
  },
  {
   "cell_type": "code",
   "execution_count": null,
   "id": "51732e4d",
   "metadata": {},
   "outputs": [],
   "source": [
    "# Download the planetary nebula program\n",
    "download_mast_program(13582, work_dir)\n",
    "\n",
    "# Download the flux calibration program\n",
    "download_mast_program(15587, work_dir)"
   ]
  },
  {
   "cell_type": "markdown",
   "id": "90133990",
   "metadata": {},
   "source": [
    "### Set up the initial data table\n",
    "\n",
    "This cell will cet up a data table of all WFC3 data in the current directory. Note that, in succeeding steps, only the IR grism data will actually be reduced (except that filter data taken at the same position and POSTARG during the same visit will be used, if available, to derive an initial location of the grism zeroth-order), so the presence of data other than IR grism data will not confuse the remaining scripts.\n",
    "\n",
    "The populate_table function called below can take a variety of arguments. In particular, if you have an existing table of observations (in the form of an AbscalDataTable), you can pass in that table and add any additional observations to that table. Also, the function can take arbitrary keyword arguments, which are currently used to set whether to use verbose output, and whether to output an IDL-compatible data table, in the future there may be additional settable parameters that will affect the way that data is ingested into a table."
   ]
  },
  {
   "cell_type": "code",
   "execution_count": null,
   "id": "6416e1c2",
   "metadata": {},
   "outputs": [],
   "source": [
    "verbose_output = True\n",
    "\n",
    "data_table = populate_table(verbose=True, search_dirs=work_dir)"
   ]
  },
  {
   "cell_type": "markdown",
   "id": "82aa8bbe",
   "metadata": {},
   "source": [
    "Now that there's a data table, let's take a look at what's in it (and what its features are). The data table holds a list of observations along with metadata describing the date, program, visit, grism or filter used, and other exposure parameters. There are also a number of columns related to the current abscal run, of which only two (the path at which the observation can be found, and the file name used to obtain the other metadata) are currently filled in. The AbscalDataTable class subclasses the Astropy table class, so for or less anything from the Astropy table documentationi at <https://docs.astropy.org/en/stable/table/access_table.html> can be used here."
   ]
  },
  {
   "cell_type": "markdown",
   "id": "e5a04603",
   "metadata": {},
   "source": [
    "### Reduce the WFC3 Grism Data\n",
    "\n",
    "This cell will take the data table from `populate_table()` and reduce all of the grism exposures in it. `coadd()` function allows for many default parameters to be reset at runtime.\n",
    "\n",
    "<div class=\"alert alert-block alert-warning\">\n",
    "    <strong>NOTE:</strong> Jupyter notebooks do not allow blocking calls in the middle of cells. When run as a \n",
    "    script, ABSCAL uses blocking figures with text-input boxes to allow user interaction. As such, when running\n",
    "    ABSCAL from a notebook, there is currently no way to use interactive elements.\n",
    "</div>"
   ]
  },
  {
   "cell_type": "code",
   "execution_count": null,
   "id": "625a90de",
   "metadata": {
    "scrolled": true
   },
   "outputs": [],
   "source": [
    "reduced_table = coadd(data_table, out_dir=work_dir, verbose=True, plots=True)"
   ]
  },
  {
   "cell_type": "markdown",
   "id": "f80fc5ba",
   "metadata": {},
   "source": [
    "The main difference between `data_table` and `reduced_table` is that the latter has many more parameters filled in (zeroth order image location, extracted spectrum file, co-added file, etc."
   ]
  },
  {
   "cell_type": "markdown",
   "id": "72f7ba2d",
   "metadata": {},
   "source": [
    "### Measure Wavelength Fit\n",
    "\n",
    "This cell takes the planetary nebula exposures in reduced_table, and finds the location of a set of emission lines. When run interactively, this allows the user to override fit locations and choose to reject fits.\n",
    "\n",
    "<div class=\"alert alert-block alert-warning\">\n",
    "    <strong>NOTE:</strong> The \"notebook\" flag is required in order to display non-interactive plots without being\n",
    "    trapped in an endless loop.\n",
    "</div>"
   ]
  },
  {
   "cell_type": "code",
   "execution_count": null,
   "id": "3ab5a48a",
   "metadata": {
    "scrolled": true
   },
   "outputs": [],
   "source": [
    "wavelength_table = wlmeas(reduced_table, verbose=True, plots=True, out_dir=work_dir, notebook=True)"
   ]
  },
  {
   "cell_type": "markdown",
   "id": "6ac8a671",
   "metadata": {},
   "source": [
    "The wavelength_table is a standard Astropy table rather than an AbscalDataTable, and stores only information on the derived line positions."
   ]
  },
  {
   "cell_type": "markdown",
   "id": "cad758d9",
   "metadata": {},
   "source": [
    "### Generate Wavelength Solution\n",
    "\n",
    "This cell takes the results of the wavelength fit above, and uses it to derive a full-detector wavelength solution based on position relative to the zeroth order."
   ]
  },
  {
   "cell_type": "code",
   "execution_count": null,
   "id": "22b4b4b9",
   "metadata": {},
   "outputs": [],
   "source": [
    "fit_table = wlmake(reduced_table, wavelength_table, verbose=True, plots=True, out_dir=work_dir)"
   ]
  },
  {
   "cell_type": "markdown",
   "id": "993a65e4",
   "metadata": {},
   "source": [
    "The fit_table contains only the fit parameters, and does not preserve any of the standard error information."
   ]
  }
 ],
 "metadata": {
  "kernelspec": {
   "display_name": "Python [conda env:abscal] *",
   "language": "python",
   "name": "conda-env-abscal-py"
  },
  "language_info": {
   "codemirror_mode": {
    "name": "ipython",
    "version": 3
   },
   "file_extension": ".py",
   "mimetype": "text/x-python",
   "name": "python",
   "nbconvert_exporter": "python",
   "pygments_lexer": "ipython3",
   "version": "3.9.5"
  }
 },
 "nbformat": 4,
 "nbformat_minor": 5
}
